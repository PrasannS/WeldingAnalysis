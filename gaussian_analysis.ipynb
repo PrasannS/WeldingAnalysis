{
 "cells": [
  {
   "cell_type": "code",
   "execution_count": 1,
   "metadata": {},
   "outputs": [],
   "source": [
    "#Imports\n",
    "import numpy as np\n",
    "import pandas as pd\n",
    "from sklearn.model_selection import train_test_split\n",
    "from matplotlib import pyplot as plt\n",
    "from sklearn.metrics import mean_squared_error\n",
    "#import gpflow\n",
    "#import tensorflow as tf\n",
    "#from gpflow import settings \n",
    "import GPy\n",
    "np.random.seed(1)\n",
    "%matplotlib inline"
   ]
  },
  {
   "cell_type": "code",
   "execution_count": 4,
   "metadata": {},
   "outputs": [],
   "source": [
    "#Methods\n",
    "#Useful methods\n",
    "def get_elems_list(row, cols):\n",
    "    elem_comb = {}\n",
    "    elem_list = []\n",
    "    i = 0\n",
    "    for a in row:\n",
    "        if not math.isnan(a):\n",
    "            elem_list.append(cols[i])\n",
    "        i+=1\n",
    "    elem_comb['elements'] = elem_list\n",
    "    return elem_comb\n",
    "\n",
    "def get_data_rep(df):\n",
    "    elements = get_elements(df)\n",
    "    ecols = elements.columns\n",
    "    data = df.drop(columns = ecols)\n",
    "    e = pd.DataFrame()\n",
    "    for i in range (0, len(elements)):\n",
    "        e =e.append(get_elems_list(elements.loc[i], ecols), ignore_index=True)\n",
    "    print(e)\n",
    "    data['elements'] = e['elements']\n",
    "    return data\n",
    "\n",
    "def get_oth_props(df):\n",
    "    elements = get_elements(df)\n",
    "    ecols = elements.columns\n",
    "    data = df.drop(columns = ecols)\n",
    "    return data\n",
    "\n",
    "\n",
    "def run_on_df(df, f):\n",
    "    a = pd.DataFrame()\n",
    "    for c in df.columns:\n",
    "        a[c] = f(df[c],0)\n",
    "    return a\n",
    "\n",
    "def get_heatmap(df):\n",
    "    return df.style.background_gradient(cmap='magma') \n",
    "\n",
    "def get_corrs(df, func, ind):\n",
    "    df = df.dropna()._get_numeric_data()\n",
    "    dfcols = pd.DataFrame(columns=df.columns)\n",
    "    pvalues = dfcols.transpose().join(dfcols, how='outer')\n",
    "    for r in df.columns:\n",
    "        for c in df.columns:\n",
    "            pvalues[r][c] = round(func(df[r], df[c])[ind], 4)\n",
    "\n",
    "    return pvalues\n",
    "\n",
    "def calculate_pvalues(df):\n",
    "    df = df.dropna()._get_numeric_data()\n",
    "    dfcols = pd.DataFrame(columns=df.columns)\n",
    "    pvalues = dfcols.transpose().join(dfcols, how='outer')\n",
    "    for r in df.columns:\n",
    "        for c in df.columns:\n",
    "            pvalues[r][c] = round(pearsonr(df[r], df[c])[1], 4)\n",
    "    return pvalues\n",
    "\n",
    "def notnulls(data, col):\n",
    "    return data[data[col].notnull()][col]\n",
    "\n",
    "def numerify_df(data):\n",
    "    for c in data.columns:\n",
    "        try:\n",
    "            data[c] = data[c].astype(float)\n",
    "        except:\n",
    "            print(c)\n",
    "    return data\n",
    "\n",
    "def drop_txt_rows(data):\n",
    "    for col in data.columns:\n",
    "        if data[col].dtype ==object:\n",
    "            data = data.drop(col, axis=1)  \n",
    "    data = data.fillna(0)\n",
    "    return data\n",
    "\n",
    "def get_elements(df):\n",
    "    new_cols = []\n",
    "    for c in df.columns:\n",
    "        if len(c)<3:\n",
    "            new_cols.append(c)\n",
    "            \n",
    "    return df[new_cols]\n",
    "\n",
    "            "
   ]
  },
  {
   "cell_type": "code",
   "execution_count": 5,
   "metadata": {},
   "outputs": [],
   "source": [
    "#Getting data\n",
    "df = pd.read_csv(\"final_numeric_data.csv\").drop(columns = {'Unnamed: 0'})\n",
    "columns = list(df.columns)\n",
    "elems = get_elements(df)\n",
    "#elems = numerify_df(elems).astype(float).to_numpy()\n",
    "#elems[elems==0] = np.nan\n",
    "df = numerify_df(df).astype(float).to_numpy()\n",
    "df[df==0] = np.nan"
   ]
  },
  {
   "cell_type": "code",
   "execution_count": 6,
   "metadata": {},
   "outputs": [],
   "source": [
    "def get_data(df,prop):\n",
    "    tmp = np.concatenate([elems, df[:,columns.index(prop)].reshape(3255,1)], axis=1)\n",
    "    tmp = np.nan_to_num(tmp)\n",
    "    #Remove these 2 next lines to include 0 values\n",
    "    tmp[tmp==0] = np.nan\n",
    "    tmp = tmp[pd.notnull(tmp[:,-1])]\n",
    "    y = tmp[:,-1]\n",
    "    X = np.nan_to_num(tmp)\n",
    "    X = X[:,:-1]\n",
    "    X_train, X_test, y_train, y_test = train_test_split(X, y, test_size=0.1, random_state=42, shuffle=True)\n",
    "    y_train = y_train.reshape(y_train.shape[0], 1)\n",
    "    y_test = y_test.reshape(y_test.shape[0], 1)\n",
    "    return X_train, X_test, y_train, y_test"
   ]
  },
  {
   "cell_type": "code",
   "execution_count": 11,
   "metadata": {},
   "outputs": [],
   "source": [
    "def get_err(prop, kern):\n",
    "    data = get_data(df,prop)\n",
    "    #Basic regression model\n",
    "    k1 = kern(input_dim=data[0].shape[1])\n",
    "    k2 = GPy.kern.WhiteHeteroscedastic(input_dim=data[0].shape[1])\n",
    "    ker = k1+k2\n",
    "    m = GPy.models.GPRegression(data[0], data[2], ker)\n",
    "    m.optimize()\n",
    "    pred = m.predict(data[1])\n",
    "    return mean_squared_error(pred[0], data[3])"
   ]
  },
  {
   "cell_type": "code",
   "execution_count": null,
   "metadata": {},
   "outputs": [],
   "source": []
  },
  {
   "cell_type": "code",
   "execution_count": null,
   "metadata": {},
   "outputs": [],
   "source": []
  },
  {
   "cell_type": "code",
   "execution_count": 8,
   "metadata": {},
   "outputs": [
    {
     "ename": "NameError",
     "evalue": "name 'data' is not defined",
     "output_type": "error",
     "traceback": [
      "\u001b[0;31m---------------------------------------------------------------------------\u001b[0m",
      "\u001b[0;31mNameError\u001b[0m                                 Traceback (most recent call last)",
      "\u001b[0;32m<ipython-input-8-076a3b41e31d>\u001b[0m in \u001b[0;36m<module>\u001b[0;34m\u001b[0m\n\u001b[0;32m----> 1\u001b[0;31m \u001b[0mzero\u001b[0m \u001b[0;34m=\u001b[0m \u001b[0mdata\u001b[0m\u001b[0;34m[\u001b[0m\u001b[0;36m0\u001b[0m\u001b[0;34m]\u001b[0m\u001b[0;34m<\u001b[0m\u001b[0;36m1\u001b[0m\u001b[0;34m\u001b[0m\u001b[0;34m\u001b[0m\u001b[0m\n\u001b[0m",
      "\u001b[0;31mNameError\u001b[0m: name 'data' is not defined"
     ]
    }
   ],
   "source": [
    "zero = data[0]<1"
   ]
  },
  {
   "cell_type": "code",
   "execution_count": 81,
   "metadata": {},
   "outputs": [
    {
     "data": {
      "text/plain": [
       "20138"
      ]
     },
     "execution_count": 81,
     "metadata": {},
     "output_type": "execute_result"
    }
   ],
   "source": [
    "np.count_nonzero(zero)"
   ]
  },
  {
   "cell_type": "code",
   "execution_count": 82,
   "metadata": {},
   "outputs": [],
   "source": [
    "zero = data[3]<1"
   ]
  },
  {
   "cell_type": "code",
   "execution_count": 83,
   "metadata": {},
   "outputs": [
    {
     "data": {
      "text/plain": [
       "0"
      ]
     },
     "execution_count": 83,
     "metadata": {},
     "output_type": "execute_result"
    }
   ],
   "source": [
    "np.count_nonzero(zero)"
   ]
  },
  {
   "cell_type": "code",
   "execution_count": null,
   "metadata": {},
   "outputs": [],
   "source": []
  },
  {
   "cell_type": "code",
   "execution_count": 9,
   "metadata": {},
   "outputs": [],
   "source": [
    "def try_kern(kern):\n",
    "    a = []\n",
    "    for i in range (0,16):\n",
    "        try:\n",
    "            err = get_err(columns[i], kern)\n",
    "            print(columns[i]+ \" - \"+str(err))\n",
    "        except:\n",
    "            print(columns[i] +\" DID NOT WORK\")\n",
    "    return a"
   ]
  },
  {
   "cell_type": "code",
   "execution_count": 12,
   "metadata": {},
   "outputs": [
    {
     "name": "stdout",
     "output_type": "stream",
     "text": [
      "Category DID NOT WORK\n",
      "Charpy DID NOT WORK\n",
      "DIN_W DID NOT WORK\n",
      "Elongation DID NOT WORK\n",
      "HT_Temp DID NOT WORK\n",
      "Hardness_Scale DID NOT WORK\n",
      "IE-20 DID NOT WORK\n",
      "Manual metal arc_Heat input DID NOT WORK\n",
      "Manual metal arc_Interpass temperature DID NOT WORK\n",
      "Redry_Time DID NOT WORK\n",
      "Reduction of area DID NOT WORK\n",
      "Rp0 DID NOT WORK\n",
      "Tensile DID NOT WORK\n",
      "Ultimate tensile strength DID NOT WORK\n",
      "Yield DID NOT WORK\n",
      "Yield strength DID NOT WORK\n"
     ]
    },
    {
     "data": {
      "text/plain": [
       "[]"
      ]
     },
     "execution_count": 12,
     "metadata": {},
     "output_type": "execute_result"
    }
   ],
   "source": [
    "try_kern(GPy.kern.RBF)\n"
   ]
  },
  {
   "cell_type": "code",
   "execution_count": null,
   "metadata": {},
   "outputs": [],
   "source": [
    "#ntks, neural tangent kernels\n",
    "#yasmaan bahari\n",
    "#lmfit\n",
    "#.7, .2, .1\n",
    "#sheet for each property - variations, performances - test, validation, test ()\n",
    "#RMSE\n",
    "#Sklearn look at other libraries - Knife based regression, shallow perceptrons, bayesian \n",
    "#Looking at imagery data\n",
    "#Recent microsoft paper\n",
    "#Reviews of modern physics - info theory, particle physics\n",
    "#Graph networks"
   ]
  }
 ],
 "metadata": {
  "kernelspec": {
   "display_name": "Python 3",
   "language": "python",
   "name": "python3"
  },
  "language_info": {
   "codemirror_mode": {
    "name": "ipython",
    "version": 3
   },
   "file_extension": ".py",
   "mimetype": "text/x-python",
   "name": "python",
   "nbconvert_exporter": "python",
   "pygments_lexer": "ipython3",
   "version": "3.7.4"
  },
  "toc": {
   "base_numbering": 1,
   "nav_menu": {},
   "number_sections": true,
   "sideBar": true,
   "skip_h1_title": false,
   "title_cell": "Table of Contents",
   "title_sidebar": "Contents",
   "toc_cell": false,
   "toc_position": {},
   "toc_section_display": true,
   "toc_window_display": false
  },
  "varInspector": {
   "cols": {
    "lenName": 16,
    "lenType": 16,
    "lenVar": 40
   },
   "kernels_config": {
    "python": {
     "delete_cmd_postfix": "",
     "delete_cmd_prefix": "del ",
     "library": "var_list.py",
     "varRefreshCmd": "print(var_dic_list())"
    },
    "r": {
     "delete_cmd_postfix": ") ",
     "delete_cmd_prefix": "rm(",
     "library": "var_list.r",
     "varRefreshCmd": "cat(var_dic_list()) "
    }
   },
   "types_to_exclude": [
    "module",
    "function",
    "builtin_function_or_method",
    "instance",
    "_Feature"
   ],
   "window_display": false
  }
 },
 "nbformat": 4,
 "nbformat_minor": 2
}
